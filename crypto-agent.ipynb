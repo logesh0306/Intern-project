{
 "cells": [
  {
   "cell_type": "code",
   "execution_count": null,
   "id": "fb9a6e51-e61e-459b-90e7-e94e96f780bf",
   "metadata": {},
   "outputs": [],
   "source": [
    "!pip install requests\n"
   ]
  },
  {
   "cell_type": "code",
   "execution_count": null,
   "id": "6ac4a651-3e39-4c18-be64-516f97e9fb32",
   "metadata": {},
   "outputs": [],
   "source": [
    "import requests\n",
    "\n",
    "# ✅ Wrap your API key in quotes\n",
    "API_KEY = \"xxxxxxxxxxxxxxxxxxxxxxx\"\n",
    "\n",
    "def get_crypto_news():\n",
    "    url = f\"https://cryptopanic.com/api/v1/posts/?auth_token={API_KEY}&public=true\"\n",
    "    response = requests.get(url)\n",
    "    if response.status_code == 200:\n",
    "        data = response.json()\n",
    "        for i, post in enumerate(data['results'][:5]):\n",
    "            print(f\"{i+1}. {post['title']}\")\n",
    "    else:\n",
    "        print(\"Failed to fetch news:\", response.status_code)\n",
    "\n",
    "# Run the function\n",
    "get_crypto_news()\n"
   ]
  },
  {
   "cell_type": "code",
   "execution_count": null,
   "id": "5eea6bfc-03e8-45ce-8126-80b711c936da",
   "metadata": {},
   "outputs": [],
   "source": [
    "import openai\n",
    "\n",
    "\n",
    "# Function to get sentiment of a headline using GPT-4\n",
    "def analyze_sentiment(headline):\n",
    "    prompt = f\"What is the sentiment of this crypto news headline?\\n\\n\\\"{headline}\\\"\\n\\nRespond with: Positive, Neutral, or Negative.\"\n",
    "    \n",
    "    response = openai.ChatCompletion.create(\n",
    "        model=\"gpt-3.5-turbo\",  # You can use \"gpt-3.5-turbo\" if you don't have GPT-4 access\n",
    "        messages=[{\"role\": \"user\", \"content\": prompt}],\n",
    "        temperature=0\n",
    "    )\n",
    "    \n",
    "    sentiment = response['choices'][0]['message']['content']\n",
    "    return sentiment.strip()\n"
   ]
  },
  {
   "cell_type": "code",
   "execution_count": null,
   "id": "dca4dda7-eada-4433-b413-3b04469628e9",
   "metadata": {},
   "outputs": [],
   "source": [
    "import requests\n",
    "\n",
    "def get_crypto_news_with_sentiment():\n",
    "    url = f\"https://cryptopanic.com/api/v1/posts/?auth_token={\"bbb2b12c70676a3ba355e8b6bc3700f03f499f2e\"}&public=true\"\n",
    "    response = requests.get(url)\n",
    "    \n",
    "    if response.status_code == 200:\n",
    "        \n",
    "        data = response.json()\n",
    "        \n",
    "        for i, post in enumerate(data['results'][:5]):\n",
    "            title = post['title']\n",
    "            sentiment = analyze_sentiment(title)\n",
    "            print(f\"{i+1}. {title}\\n   → Sentiment: {sentiment}\\n\")\n",
    "    else:\n",
    "        print(\"Failed to fetch news:\", response.status_code)\n",
    "\n",
    "# Run it!\n",
    "get_crypto_news_with_sentiment()\n"
   ]
  },
  {
   "cell_type": "code",
   "execution_count": null,
   "id": "0f2bb17c-24ef-4796-a24e-b53769d748d2",
   "metadata": {},
   "outputs": [],
   "source": [
    "!pip install transformers torch\n"
   ]
  },
  {
   "cell_type": "code",
   "execution_count": null,
   "id": "3d39e1fe-3e32-43b0-a524-5e28e1bbb0f5",
   "metadata": {},
   "outputs": [],
   "source": [
    "from transformers import pipeline\n",
    "\n",
    "# Load sentiment analysis pipeline\n",
    "sentiment_analyzer = pipeline(\"sentiment-analysis\")\n",
    "\n",
    "def analyze_sentiment_free(headline):\n",
    "    result = sentiment_analyzer(headline)[0]\n",
    "    label = result['label']\n",
    "    score = result['score']\n",
    "    # Map labels to Positive/Neutral/Negative for simplicity\n",
    "    if label in ['POSITIVE', '5 stars', '4 stars']:\n",
    "        sentiment = \"Positive\"\n",
    "    elif label in ['NEGATIVE', '1 star', '2 stars']:\n",
    "        sentiment = \"Negative\"\n",
    "    else:\n",
    "        sentiment = \"Neutral\"\n",
    "    return f\"{sentiment} ({score:.2f})\"\n",
    "\n",
    "# Test\n",
    "print(analyze_sentiment_free(\"Bitcoin price surges after new government regulation\"))\n",
    "print(analyze_sentiment_free(\"Crypto market crashes amid regulatory concerns\"))\n"
   ]
  },
  {
   "cell_type": "code",
   "execution_count": null,
   "id": "dbc577a0-dace-4e80-8f44-b1e60761cf2f",
   "metadata": {},
   "outputs": [],
   "source": [
    "import sys\n",
    "!{sys.executable} -pip install transformers torch"
   ]
  },
  {
   "cell_type": "code",
   "execution_count": null,
   "id": "03fd75fa-6eee-48b0-b3a5-c82079752315",
   "metadata": {},
   "outputs": [],
   "source": [
    "!pip install transformers torch\n"
   ]
  },
  {
   "cell_type": "code",
   "execution_count": null,
   "id": "0f1a2105-d831-4ce4-89f9-59865b4fe662",
   "metadata": {},
   "outputs": [],
   "source": [
    "from transformers import pipeline\n",
    "\n",
    "# Load sentiment analysis pipeline\n",
    "sentiment_analyzer = pipeline(\"sentiment-analysis\")\n",
    "\n",
    "def analyze_sentiment_free(headline):\n",
    "    result = sentiment_analyzer(headline)[0]\n",
    "    label = result['label']\n",
    "    score = result['score']\n",
    "    \n",
    "    # Map to 3-class sentiment\n",
    "    if label in ['POSITIVE', '5 stars', '4 stars']:\n",
    "        sentiment = \"Positive\"\n",
    "    elif label in ['NEGATIVE', '1 star', '2 stars']:\n",
    "        sentiment = \"Negative\"\n",
    "    else:\n",
    "        sentiment = \"Neutral\"\n",
    "    \n",
    "    return f\"{sentiment} ({score:.2f})\"\n",
    "\n",
    "# Test it\n",
    "print(analyze_sentiment_free(\"Bitcoin hits $70K as ETF approved\"))\n",
    "print(analyze_sentiment_free(\"Crypto market plummets due to regulation fears\"))\n"
   ]
  },
  {
   "cell_type": "code",
   "execution_count": null,
   "id": "72b700e7-249a-4e1a-9269-97701226876c",
   "metadata": {},
   "outputs": [],
   "source": [
    "import sys\n",
    "!{sys.executable} -m pip install transformers torch\n"
   ]
  },
  {
   "cell_type": "code",
   "execution_count": null,
   "id": "d3b5aaa9-f06b-4f6d-be28-b1fc490bae33",
   "metadata": {},
   "outputs": [],
   "source": [
    "from transformers import pipeline\n",
    "\n",
    "# Load the sentiment analysis model\n",
    "sentiment_analyzer = pipeline(\"sentiment-analysis\")\n",
    "\n",
    "def analyze_sentiment_free(headline):\n",
    "    result = sentiment_analyzer(headline)[0]\n",
    "    label = result['label']\n",
    "    score = result['score']\n",
    "    \n",
    "    if label in ['POSITIVE', '5 stars', '4 stars']:\n",
    "        sentiment = \"Positive\"\n",
    "    elif label in ['NEGATIVE', '1 star', '2 stars']:\n",
    "        sentiment = \"Negative\"\n",
    "    else:\n",
    "        sentiment = \"Neutral\"\n",
    "    \n",
    "    return f\"{sentiment} ({score:.2f})\"\n",
    "\n",
    "# Try it\n",
    "print(analyze_sentiment_free(\"Bitcoin rises after ETF approval\"))\n"
   ]
  },
  {
   "cell_type": "code",
   "execution_count": null,
   "id": "5aef0e60-bc79-4038-a303-59bbd8ae8c83",
   "metadata": {},
   "outputs": [],
   "source": [
    "import requests\n",
    "from transformers import pipeline\n",
    "\n",
    "# Load local sentiment model\n",
    "sentiment_analyzer = pipeline(\"sentiment-analysis\")\n",
    "\n",
    "def analyze_sentiment_free(headline):\n",
    "    result = sentiment_analyzer(headline)[0]\n",
    "    label = result['label']\n",
    "    score = result['score']\n",
    "    \n",
    "    if label in ['POSITIVE', '5 stars', '4 stars']:\n",
    "        sentiment = \"Positive\"\n",
    "    elif label in ['NEGATIVE', '1 star', '2 stars']:\n",
    "        sentiment = \"Negative\"\n",
    "    else:\n",
    "        sentiment = \"Neutral\"\n",
    "    \n",
    "    return f\"{sentiment} ({score:.2f})\"\n",
    "\n",
    "# Fetch crypto news from CryptoPanic\n",
    "def get_crypto_news_with_sentiment():\n",
    "    API_KEY = \"YOUR_CRYPTOPANIC_API_KEY\"  # Replace this with your actual CryptoPanic key\n",
    "    url = f\"https://cryptopanic.com/api/v1/posts/?auth_token={API_KEY}&public=true\"\n",
    "    response = requests.get(url)\n",
    "    \n",
    "    if response.status_code == 200:\n",
    "        data = response.json()\n",
    "        for i, post in enumerate(data['results'][:5]):\n",
    "            title = post['title']\n",
    "            sentiment = analyze_sentiment_free(title)\n",
    "            print(f\"{i+1}. {title}\\n   → Sentiment: {sentiment}\\n\")\n",
    "    else:\n",
    "        print(\"Failed to fetch news:\", response.status_code)\n",
    "\n",
    "# Run it\n",
    "get_crypto_news_with_sentiment()\n"
   ]
  },
  {
   "cell_type": "code",
   "execution_count": null,
   "id": "4d7a2f91-976e-43c5-bbae-91c73d165d39",
   "metadata": {},
   "outputs": [],
   "source": [
    "import requests\n",
    "from transformers import pipeline\n",
    "import pandas as pd\n",
    "from datetime import datetime\n",
    "\n",
    "# Load sentiment analysis model\n",
    "sentiment_analyzer = pipeline(\"sentiment-analysis\")\n",
    "\n",
    "# Analyze headline sentiment\n",
    "def analyze_sentiment(headline):\n",
    "    result = sentiment_analyzer(headline)[0]\n",
    "    label = result['label']\n",
    "    score = result['score']\n",
    "    \n",
    "    if label in ['POSITIVE', '5 stars', '4 stars']:\n",
    "        sentiment = \"Positive\"\n",
    "    elif label in ['NEGATIVE', '1 star', '2 stars']:\n",
    "        sentiment = \"Negative\"\n",
    "    else:\n",
    "        sentiment = \"Neutral\"\n",
    "    \n",
    "    return sentiment, round(score, 2)\n",
    "\n",
    "# Fetch and analyze news\n",
    "def fetch_news_and_analyze():\n",
    "    API_KEY = \"YOUR_CRYPTOPANIC_API_KEY\"  # Replace this\n",
    "    url = f\"https://cryptopanic.com/api/v1/posts/?auth_token={API_KEY}&public=true\"\n",
    "    response = requests.get(url)\n",
    "\n",
    "    results = []\n",
    "    if response.status_code == 200:\n",
    "        data = response.json()\n",
    "        for post in data['results'][:10]:\n",
    "            title = post['title']\n",
    "            link = post['url']\n",
    "            sentiment, score = analyze_sentiment(title)\n",
    "\n",
    "            # Basic trade logic\n",
    "            if sentiment == \"Positive\" and score >= 0.85:\n",
    "                signal = \"Buy\"\n",
    "            elif sentiment == \"Negative\" and score >= 0.85:\n",
    "                signal = \"Sell\"\n",
    "            else:\n",
    "                signal = \"Hold\"\n",
    "\n",
    "            results.append({\n",
    "                \"Time\": datetime.now().strftime(\"%Y-%m-%d %H:%M:%S\"),\n",
    "                \"Title\": title,\n",
    "                \"Sentiment\": sentiment,\n",
    "                \"Confidence\": score,\n",
    "                \"Signal\": signal,\n",
    "                \"Link\": link\n",
    "            })\n",
    "    else:\n",
    "        print(\"Failed to fetch news:\", response.status_code)\n",
    "\n",
    "    return pd.DataFrame(results)\n",
    "\n",
    "# Run and view\n",
    "df = fetch_news_and_analyze()\n",
    "df\n"
   ]
  },
  {
   "cell_type": "code",
   "execution_count": null,
   "id": "7128a50f-b156-4955-81e9-bdeaed1b0059",
   "metadata": {},
   "outputs": [],
   "source": [
    "df.to_excel(\"crypto_signals.xlsx\", index=False)\n",
    "print(\"✅ Saved to crypto_signals.xlsx\")\n"
   ]
  },
  {
   "cell_type": "code",
   "execution_count": null,
   "id": "0343c1ef-67df-4e7b-bb50-6ac9c69628c7",
   "metadata": {},
   "outputs": [],
   "source": [
    "import streamlit as st\n",
    "import pandas as pd\n",
    "\n",
    "st.set_page_config(page_title=\"Crypto Sentiment Dashboard\", layout=\"wide\")\n",
    "\n",
    "st.title(\"📈 Crypto News Sentiment Signals\")\n",
    "\n",
    "df = pd.read_excel(\"crypto_signals.xlsx\")\n",
    "st.dataframe(df)\n",
    "\n",
    "buy_count = (df[\"Signal\"] == \"Buy\").sum()\n",
    "sell_count = (df[\"Signal\"] == \"Sell\").sum()\n",
    "\n",
    "st.metric(\"📥 Buy Signals\", buy_count)\n",
    "st.metric(\"📤 Sell Signals\", sell_count)\n"
   ]
  },
  {
   "cell_type": "code",
   "execution_count": null,
   "id": "31cce3be-068b-4006-89d8-1645b1600b9e",
   "metadata": {},
   "outputs": [],
   "source": [
    "!pip install streamlit\n"
   ]
  },
  {
   "cell_type": "code",
   "execution_count": null,
   "id": "436496f3-8b8c-4e3d-a948-16961615c424",
   "metadata": {},
   "outputs": [],
   "source": [
    "import sys\n",
    "!{sys.executable} -m pip install streamlit\n"
   ]
  },
  {
   "cell_type": "code",
   "execution_count": null,
   "id": "53f32f63-95a1-40e1-877d-4871580f68b8",
   "metadata": {},
   "outputs": [],
   "source": [
    "import os\n",
    "\n",
    "# Get the current working directory\n",
    "print(\"Your notebook is saved in:\")\n",
    "print(os.getcwd())\n",
    "\n"
   ]
  },
  {
   "cell_type": "code",
   "execution_count": null,
   "id": "fe9ec5be-0c3e-4094-9809-4ca702d31b21",
   "metadata": {},
   "outputs": [],
   "source": [
    "python --version\n",
    "pip list\n"
   ]
  },
  {
   "cell_type": "code",
   "execution_count": null,
   "id": "67145efa-9f04-46e7-b442-33f2156e5c15",
   "metadata": {},
   "outputs": [],
   "source": []
  }
 ],
 "metadata": {
  "kernelspec": {
   "display_name": "Python [conda env:base] *",
   "language": "python",
   "name": "conda-base-py"
  },
  "language_info": {
   "codemirror_mode": {
    "name": "ipython",
    "version": 3
   },
   "file_extension": ".py",
   "mimetype": "text/x-python",
   "name": "python",
   "nbconvert_exporter": "python",
   "pygments_lexer": "ipython3",
   "version": "3.12.7"
  }
 },
 "nbformat": 4,
 "nbformat_minor": 5
}
